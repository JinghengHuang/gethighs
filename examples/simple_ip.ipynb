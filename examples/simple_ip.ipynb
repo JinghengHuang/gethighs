{
 "cells": [
  {
   "attachments": {},
   "cell_type": "markdown",
   "metadata": {},
   "source": [
    "## Simple example\n",
    "\n",
    "$$\n",
    "\\begin{align}\n",
    "    \\text{maximize}~ \\;\\; & 5 x_{1} + 4 x_{2} \\\\\n",
    "    \\text{subject to}~ \\;\\; & 2 x_{1} + 3 x_{2} \\leq 12 \\\\\n",
    "    & 2 x_{1} + x_{2} \\leq 6 \\\\\n",
    "    & x_{i} \\geq 0 & \\forall \\; i \\in \\{  1, 2 \\} \\\\\n",
    "    & x_{i} \\in \\mathbb{Z} & \\forall \\; i \\in \\{  1, 2 \\}\n",
    "\\end{align}\n",
    "$$"
   ]
  },
  {
   "cell_type": "code",
   "execution_count": 1,
   "metadata": {},
   "outputs": [],
   "source": [
    "import pyomo.environ as pyo\n",
    "from gethighs import HiGHS"
   ]
  },
  {
   "attachments": {},
   "cell_type": "markdown",
   "metadata": {},
   "source": [
    "### Create the model"
   ]
  },
  {
   "cell_type": "code",
   "execution_count": 2,
   "metadata": {},
   "outputs": [],
   "source": [
    "# Initialize model\n",
    "model = pyo.ConcreteModel()\n",
    "\n",
    "# Set\n",
    "model.I = pyo.Set(initialize=[1, 2])\n",
    "\n",
    "# Variables\n",
    "model.x = pyo.Var(model.I, within=pyo.NonNegativeIntegers)\n",
    "\n",
    "# Constraints\n",
    "model.c1 = pyo.Constraint(expr=2 * model.x[1] + 3 * model.x[2] <= 12)\n",
    "model.c2 = pyo.Constraint(expr=2 * model.x[1] + model.x[2] <= 6)\n",
    "\n",
    "# Objective\n",
    "model.obj = pyo.Objective(expr=5 * model.x[1] + 4 * model.x[2], sense=pyo.maximize)"
   ]
  },
  {
   "attachments": {},
   "cell_type": "markdown",
   "metadata": {},
   "source": [
    "### Configure HiGHS\n",
    "\n",
    "More options can be found [here](https://www.maths.ed.ac.uk/hall/HiGHS/HighsOptions.html)."
   ]
  },
  {
   "cell_type": "code",
   "execution_count": 3,
   "metadata": {},
   "outputs": [],
   "source": [
    "solver = HiGHS(time_limit=10, mip_heuristic_effort=0.2, mip_detect_symmetry=\"on\")"
   ]
  },
  {
   "attachments": {},
   "cell_type": "markdown",
   "metadata": {},
   "source": [
    "### Solve"
   ]
  },
  {
   "cell_type": "code",
   "execution_count": 4,
   "metadata": {},
   "outputs": [
    {
     "name": "stdout",
     "output_type": "stream",
     "text": [
      "status: Optimal\n",
      "primal_solutions: Feasible\n",
      "objective: 18.0\n"
     ]
    }
   ],
   "source": [
    "results = solver.solve(model)\n",
    "print(results)"
   ]
  },
  {
   "cell_type": "code",
   "execution_count": 5,
   "metadata": {},
   "outputs": [
    {
     "name": "stdout",
     "output_type": "stream",
     "text": [
      "x : Size=2, Index=I\n",
      "    Key : Lower : Value : Upper : Fixed : Stale : Domain\n",
      "      1 :     0 :   2.0 :  None : False : False : NonNegativeIntegers\n",
      "      2 :     0 :   2.0 :  None : False : False : NonNegativeIntegers\n"
     ]
    }
   ],
   "source": [
    "model.x.display()"
   ]
  },
  {
   "cell_type": "code",
   "execution_count": null,
   "metadata": {},
   "outputs": [],
   "source": []
  }
 ],
 "metadata": {
  "kernelspec": {
   "display_name": "venv",
   "language": "python",
   "name": "python3"
  },
  "language_info": {
   "codemirror_mode": {
    "name": "ipython",
    "version": 3
   },
   "file_extension": ".py",
   "mimetype": "text/x-python",
   "name": "python",
   "nbconvert_exporter": "python",
   "pygments_lexer": "ipython3",
   "version": "3.9.7"
  },
  "orig_nbformat": 4,
  "vscode": {
   "interpreter": {
    "hash": "59103a22946b294897093df386cff0e01bcd2f907e3a8472314442055c6451a4"
   }
  }
 },
 "nbformat": 4,
 "nbformat_minor": 2
}
